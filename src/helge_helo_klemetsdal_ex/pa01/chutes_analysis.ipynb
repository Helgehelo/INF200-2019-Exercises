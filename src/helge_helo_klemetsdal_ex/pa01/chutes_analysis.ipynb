{
 "cells": [
  {
   "cell_type": "markdown",
   "metadata": {},
   "source": [
    "# Adding code from exercise"
   ]
  },
  {
   "cell_type": "code",
   "execution_count": 1,
   "metadata": {},
   "outputs": [],
   "source": [
    "import random as rd\n",
    "def single_game(num_players):\n",
    "    \"\"\"\n",
    "    Returns duration of single game.\n",
    "\n",
    "    Arguments\n",
    "    ---------\n",
    "    num_players : int\n",
    "        Number of players in the game\n",
    "\n",
    "    Returns\n",
    "    -------\n",
    "    num_moves : int\n",
    "        Number of moves the winning player needed to reach the goal\n",
    "    \"\"\"\n",
    "    winning_score = 90\n",
    "    moves_list = []\n",
    "    ladder_dict = {1:40,8:10,36:52,43:62,49:79,65:82,68:85}\n",
    "    snake_dict = {24:5,33:3,42:30,56:37,64:27,74:12,87:70}\n",
    "    for player in range(num_players):\n",
    "        num_moves = 0\n",
    "        player_score = 0\n",
    "        while player_score <= winning_score:\n",
    "            player_score += rd.randint(1,6)\n",
    "            if player_score in ladder_dict.keys():\n",
    "                player_score = ladder_dict[player_score]\n",
    "            if player_score in snake_dict.keys():\n",
    "                player_score = snake_dict[player_score]\n",
    "            num_moves += 1\n",
    "        moves_list.append(num_moves)\n",
    "    \n",
    "    winning_moves = min(moves_list)\n",
    "    return winning_moves\n",
    "\n",
    "\n",
    "def multiple_games(num_games, num_players):\n",
    "    \"\"\"\n",
    "    Returns durations of a number of games.\n",
    "\n",
    "    Arguments\n",
    "    ---------\n",
    "    num_games : int\n",
    "        Number of games to play\n",
    "    num_players : int\n",
    "        Number of players in the game\n",
    "\n",
    "    Returns\n",
    "    -------\n",
    "    num_moves : list\n",
    "        List with the numbedr of moves needed in each game.\n",
    "    \"\"\"\n",
    "    moves_and_games_list = []\n",
    "    for game in range(num_games):\n",
    "        moves_and_games_list.append(single_game(num_players))\n",
    "    \n",
    "    return moves_and_games_list\n",
    "        \n",
    "\n",
    "def multi_game_experiment(num_games, num_players, seed):\n",
    "    \"\"\"\n",
    "    Returns durations of a number of games when playing with given seed.\n",
    "\n",
    "    Arguments\n",
    "    ---------\n",
    "    num_games : int\n",
    "        Number of games to play\n",
    "    num_players : int\n",
    "        Number of players in the game\n",
    "    seed : int\n",
    "        Seed used to initialise the random number generator\n",
    "\n",
    "    Returns\n",
    "    -------\n",
    "    num_moves : list\n",
    "        List with the numbedr of moves needed in each game.\n",
    "    \"\"\"\n",
    "    rd.seed(seed)\n",
    "    return multiple_games(num_games,num_players)\n",
    "\n",
    "\n"
   ]
  },
  {
   "cell_type": "markdown",
   "metadata": {},
   "source": [
    "## Importing pyplot"
   ]
  },
  {
   "cell_type": "code",
   "execution_count": 5,
   "metadata": {},
   "outputs": [],
   "source": [
    "import matplotlib.pyplot as plt"
   ]
  },
  {
   "cell_type": "markdown",
   "metadata": {},
   "source": [
    "## Plot for 1 player\n"
   ]
  },
  {
   "cell_type": "code",
   "execution_count": 29,
   "metadata": {},
   "outputs": [
    {
     "data": {
      "image/png": "[encoded data removed]",
      "text/plain": [
       "<Figure size 432x288 with 1 Axes>"
      ]
     },
     "metadata": {
      "needs_background": "light"
     },
     "output_type": "display_data"
    }
   ],
   "source": [
    "winning_list = multi_game_experiment(100, 1, 1)\n",
    "figure = plt.hist(winning_list, bins = 100)"
   ]
  },
  {
   "cell_type": "markdown",
   "metadata": {},
   "source": [
    "##  Plot for 2 players"
   ]
  },
  {
   "cell_type": "code",
   "execution_count": 30,
   "metadata": {},
   "outputs": [
    {
     "data": {
      "image/png": "[encoded data removed]",
      "text/plain": [
       "<Figure size 432x288 with 1 Axes>"
      ]
     },
     "metadata": {
      "needs_background": "light"
     },
     "output_type": "display_data"
    }
   ],
   "source": [
    "winning_list = multi_game_experiment(100, 2, 2)\n",
    "figure = plt.hist(winning_list, bins = 100)"
   ]
  },
  {
   "cell_type": "markdown",
   "metadata": {},
   "source": [
    "## Plot for 4 players"
   ]
  },
  {
   "cell_type": "code",
   "execution_count": 31,
   "metadata": {},
   "outputs": [
    {
     "data": {
      "image/png": "[encoded data removed]",
      "text/plain": [
       "<Figure size 432x288 with 1 Axes>"
      ]
     },
     "metadata": {
      "needs_background": "light"
     },
     "output_type": "display_data"
    }
   ],
   "source": [
    "winning_list = multi_game_experiment(100, 4, 3)\n",
    "figure = plt.hist(np.array(winning_list), bins = 100)"
   ]
  },
  {
   "cell_type": "markdown",
   "metadata": {},
   "source": [
    "## Plot for 8 players"
   ]
  },
  {
   "cell_type": "code",
   "execution_count": 32,
   "metadata": {},
   "outputs": [
    {
     "data": {
      "image/png": "[encoded data removed]",
      "text/plain": [
       "<Figure size 432x288 with 1 Axes>"
      ]
     },
     "metadata": {
      "needs_background": "light"
     },
     "output_type": "display_data"
    }
   ],
   "source": [
    "winning_list = multi_game_experiment(100, 8, 4)\n",
    "figure = plt.hist(np.array(winning_list), bins = 100)"
   ]
  }
 ],
 "metadata": {
  "kernelspec": {
   "display_name": "Python 3",
   "language": "python",
   "name": "python3"
  },
  "language_info": {
   "codemirror_mode": {
    "name": "ipython",
    "version": 3
   },
   "file_extension": ".py",
   "mimetype": "text/x-python",
   "name": "python",
   "nbconvert_exporter": "python",
   "pygments_lexer": "ipython3",
   "version": "3.7.1"
  }
 },
 "nbformat": 4,
 "nbformat_minor": 2
}
